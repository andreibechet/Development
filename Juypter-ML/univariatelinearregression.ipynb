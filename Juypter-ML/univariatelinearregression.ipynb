{
 "nbformat": 4,
 "nbformat_minor": 2,
 "metadata": {
  "language_info": {
   "name": "python",
   "codemirror_mode": {
    "name": "ipython",
    "version": 3
   },
   "version": "3.7.3-final"
  },
  "orig_nbformat": 2,
  "file_extension": ".py",
  "mimetype": "text/x-python",
  "name": "python",
  "npconvert_exporter": "python",
  "pygments_lexer": "ipython3",
  "version": 3,
  "kernelspec": {
   "name": "python37364bit06f2074d53bf4fb5b340b3f030d34500",
   "display_name": "Python 3.7.3 64-bit"
  }
 },
 "cells": [
  {
   "source": [
    "#Import the dependencies\n",
    "import numpy as np \n",
    "import matplotlib.pyplot as plt \n",
    "import pandas as pd \n",
    ""
   ],
   "cell_type": "code",
   "outputs": [],
   "metadata": {},
   "execution_count": 12
  },
  {
   "source": [
    "# Load Data \n",
    "df = pd.read_csv('datasets/ex1data1.csv')\n",
    "print(df)\n",
    ""
   ],
   "cell_type": "code",
   "outputs": [
    {
     "output_type": "stream",
     "name": "stdout",
     "text": "Population    Profit\n0       6.1101  17.59200\n1       5.5277   9.13020\n2       8.5186  13.66200\n3       7.0032  11.85400\n4       5.8598   6.82330\n..         ...       ...\n92      5.8707   7.20290\n93      5.3054   1.98690\n94      8.2934   0.14454\n95     13.3940   9.05510\n96      5.4369   0.61705\n\n[97 rows x 2 columns]\n"
    }
   ],
   "metadata": {},
   "execution_count": 13
  },
  {
   "cell_type": "code",
   "execution_count": null,
   "metadata": {},
   "outputs": [],
   "source": []
  }
 ]
}